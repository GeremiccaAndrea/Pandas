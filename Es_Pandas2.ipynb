{
  "nbformat": 4,
  "nbformat_minor": 0,
  "metadata": {
    "colab": {
      "provenance": [],
      "include_colab_link": true
    },
    "kernelspec": {
      "name": "python3",
      "display_name": "Python 3"
    },
    "language_info": {
      "name": "python"
    }
  },
  "cells": [
    {
      "cell_type": "markdown",
      "metadata": {
        "id": "view-in-github",
        "colab_type": "text"
      },
      "source": [
        "<a href=\"https://colab.research.google.com/github/GeremiccaAndrea/Pandas/blob/main/Es_Pandas2.ipynb\" target=\"_parent\"><img src=\"https://colab.research.google.com/assets/colab-badge.svg\" alt=\"Open In Colab\"/></a>"
      ]
    },
    {
      "cell_type": "markdown",
      "source": [
        "##Pandas - esercizio 1"
      ],
      "metadata": {
        "id": "n0Lfk4hlIHyS"
      }
    },
    {
      "cell_type": "markdown",
      "source": [
        "Prendere in considerazione i dati presenti nel file winemag-data-130k-v2.json e scrivere le istruzioni necessarie per:"
      ],
      "metadata": {
        "id": "TRkfGLkjkELm"
      }
    },
    {
      "cell_type": "markdown",
      "source": [
        "1. caricare in un dataframe i dati presenti nel file"
      ],
      "metadata": {
        "id": "aevMoSsKkmB3"
      }
    },
    {
      "cell_type": "code",
      "source": [
        "from google.colab import drive\n",
        "drive.mount('/content/drive')"
      ],
      "metadata": {
        "id": "xfpPZ9FjGxDC",
        "colab": {
          "base_uri": "https://localhost:8080/"
        },
        "outputId": "edd46153-d370-4f25-e2ff-e41535e109dc"
      },
      "execution_count": null,
      "outputs": [
        {
          "output_type": "stream",
          "name": "stdout",
          "text": [
            "Drive already mounted at /content/drive; to attempt to forcibly remount, call drive.mount(\"/content/drive\", force_remount=True).\n"
          ]
        }
      ]
    },
    {
      "cell_type": "code",
      "source": [
        "import pandas as pd\n",
        "Andrea = pd.read_json('/content/drive/MyDrive/Colab Notebooks/Pandas/winemag-data-130k-v2.json')\n",
        "Andrea.head()"
      ],
      "metadata": {
        "id": "8zOjNnLfkrHZ",
        "colab": {
          "base_uri": "https://localhost:8080/",
          "height": 337
        },
        "outputId": "f217ae2b-7441-4543-be0c-062339981b6e"
      },
      "execution_count": null,
      "outputs": [
        {
          "output_type": "execute_result",
          "data": {
            "text/plain": [
              "   points                                              title  \\\n",
              "0      87                  Nicosia 2013 Vulkà Bianco  (Etna)   \n",
              "1      87      Quinta dos Avidagos 2011 Avidagos Red (Douro)   \n",
              "2      87      Rainstorm 2013 Pinot Gris (Willamette Valley)   \n",
              "3      87  St. Julian 2013 Reserve Late Harvest Riesling ...   \n",
              "4      87  Sweet Cheeks 2012 Vintner's Reserve Wild Child...   \n",
              "\n",
              "                                         description         taster_name  \\\n",
              "0  Aromas include tropical fruit, broom, brimston...       Kerin O’Keefe   \n",
              "1  This is ripe and fruity, a wine that is smooth...          Roger Voss   \n",
              "2  Tart and snappy, the flavors of lime flesh and...        Paul Gregutt   \n",
              "3  Pineapple rind, lemon pith and orange blossom ...  Alexander Peartree   \n",
              "4  Much like the regular bottling from 2012, this...        Paul Gregutt   \n",
              "\n",
              "  taster_twitter_handle  price                         designation  \\\n",
              "0          @kerinokeefe    NaN                        Vulkà Bianco   \n",
              "1            @vossroger   15.0                            Avidagos   \n",
              "2           @paulgwine    14.0                                None   \n",
              "3                  None   13.0                Reserve Late Harvest   \n",
              "4           @paulgwine    65.0  Vintner's Reserve Wild Child Block   \n",
              "\n",
              "          variety             region_1           region_2           province  \\\n",
              "0     White Blend                 Etna               None  Sicily & Sardinia   \n",
              "1  Portuguese Red                 None               None              Douro   \n",
              "2      Pinot Gris    Willamette Valley  Willamette Valley             Oregon   \n",
              "3        Riesling  Lake Michigan Shore               None           Michigan   \n",
              "4      Pinot Noir    Willamette Valley  Willamette Valley             Oregon   \n",
              "\n",
              "    country               winery  \n",
              "0     Italy              Nicosia  \n",
              "1  Portugal  Quinta dos Avidagos  \n",
              "2        US            Rainstorm  \n",
              "3        US           St. Julian  \n",
              "4        US         Sweet Cheeks  "
            ],
            "text/html": [
              "\n",
              "  <div id=\"df-258f82d5-6be7-41c1-8169-d9b88259efee\">\n",
              "    <div class=\"colab-df-container\">\n",
              "      <div>\n",
              "<style scoped>\n",
              "    .dataframe tbody tr th:only-of-type {\n",
              "        vertical-align: middle;\n",
              "    }\n",
              "\n",
              "    .dataframe tbody tr th {\n",
              "        vertical-align: top;\n",
              "    }\n",
              "\n",
              "    .dataframe thead th {\n",
              "        text-align: right;\n",
              "    }\n",
              "</style>\n",
              "<table border=\"1\" class=\"dataframe\">\n",
              "  <thead>\n",
              "    <tr style=\"text-align: right;\">\n",
              "      <th></th>\n",
              "      <th>points</th>\n",
              "      <th>title</th>\n",
              "      <th>description</th>\n",
              "      <th>taster_name</th>\n",
              "      <th>taster_twitter_handle</th>\n",
              "      <th>price</th>\n",
              "      <th>designation</th>\n",
              "      <th>variety</th>\n",
              "      <th>region_1</th>\n",
              "      <th>region_2</th>\n",
              "      <th>province</th>\n",
              "      <th>country</th>\n",
              "      <th>winery</th>\n",
              "    </tr>\n",
              "  </thead>\n",
              "  <tbody>\n",
              "    <tr>\n",
              "      <th>0</th>\n",
              "      <td>87</td>\n",
              "      <td>Nicosia 2013 Vulkà Bianco  (Etna)</td>\n",
              "      <td>Aromas include tropical fruit, broom, brimston...</td>\n",
              "      <td>Kerin O’Keefe</td>\n",
              "      <td>@kerinokeefe</td>\n",
              "      <td>NaN</td>\n",
              "      <td>Vulkà Bianco</td>\n",
              "      <td>White Blend</td>\n",
              "      <td>Etna</td>\n",
              "      <td>None</td>\n",
              "      <td>Sicily &amp; Sardinia</td>\n",
              "      <td>Italy</td>\n",
              "      <td>Nicosia</td>\n",
              "    </tr>\n",
              "    <tr>\n",
              "      <th>1</th>\n",
              "      <td>87</td>\n",
              "      <td>Quinta dos Avidagos 2011 Avidagos Red (Douro)</td>\n",
              "      <td>This is ripe and fruity, a wine that is smooth...</td>\n",
              "      <td>Roger Voss</td>\n",
              "      <td>@vossroger</td>\n",
              "      <td>15.0</td>\n",
              "      <td>Avidagos</td>\n",
              "      <td>Portuguese Red</td>\n",
              "      <td>None</td>\n",
              "      <td>None</td>\n",
              "      <td>Douro</td>\n",
              "      <td>Portugal</td>\n",
              "      <td>Quinta dos Avidagos</td>\n",
              "    </tr>\n",
              "    <tr>\n",
              "      <th>2</th>\n",
              "      <td>87</td>\n",
              "      <td>Rainstorm 2013 Pinot Gris (Willamette Valley)</td>\n",
              "      <td>Tart and snappy, the flavors of lime flesh and...</td>\n",
              "      <td>Paul Gregutt</td>\n",
              "      <td>@paulgwine</td>\n",
              "      <td>14.0</td>\n",
              "      <td>None</td>\n",
              "      <td>Pinot Gris</td>\n",
              "      <td>Willamette Valley</td>\n",
              "      <td>Willamette Valley</td>\n",
              "      <td>Oregon</td>\n",
              "      <td>US</td>\n",
              "      <td>Rainstorm</td>\n",
              "    </tr>\n",
              "    <tr>\n",
              "      <th>3</th>\n",
              "      <td>87</td>\n",
              "      <td>St. Julian 2013 Reserve Late Harvest Riesling ...</td>\n",
              "      <td>Pineapple rind, lemon pith and orange blossom ...</td>\n",
              "      <td>Alexander Peartree</td>\n",
              "      <td>None</td>\n",
              "      <td>13.0</td>\n",
              "      <td>Reserve Late Harvest</td>\n",
              "      <td>Riesling</td>\n",
              "      <td>Lake Michigan Shore</td>\n",
              "      <td>None</td>\n",
              "      <td>Michigan</td>\n",
              "      <td>US</td>\n",
              "      <td>St. Julian</td>\n",
              "    </tr>\n",
              "    <tr>\n",
              "      <th>4</th>\n",
              "      <td>87</td>\n",
              "      <td>Sweet Cheeks 2012 Vintner's Reserve Wild Child...</td>\n",
              "      <td>Much like the regular bottling from 2012, this...</td>\n",
              "      <td>Paul Gregutt</td>\n",
              "      <td>@paulgwine</td>\n",
              "      <td>65.0</td>\n",
              "      <td>Vintner's Reserve Wild Child Block</td>\n",
              "      <td>Pinot Noir</td>\n",
              "      <td>Willamette Valley</td>\n",
              "      <td>Willamette Valley</td>\n",
              "      <td>Oregon</td>\n",
              "      <td>US</td>\n",
              "      <td>Sweet Cheeks</td>\n",
              "    </tr>\n",
              "  </tbody>\n",
              "</table>\n",
              "</div>\n",
              "      <button class=\"colab-df-convert\" onclick=\"convertToInteractive('df-258f82d5-6be7-41c1-8169-d9b88259efee')\"\n",
              "              title=\"Convert this dataframe to an interactive table.\"\n",
              "              style=\"display:none;\">\n",
              "        \n",
              "  <svg xmlns=\"http://www.w3.org/2000/svg\" height=\"24px\"viewBox=\"0 0 24 24\"\n",
              "       width=\"24px\">\n",
              "    <path d=\"M0 0h24v24H0V0z\" fill=\"none\"/>\n",
              "    <path d=\"M18.56 5.44l.94 2.06.94-2.06 2.06-.94-2.06-.94-.94-2.06-.94 2.06-2.06.94zm-11 1L8.5 8.5l.94-2.06 2.06-.94-2.06-.94L8.5 2.5l-.94 2.06-2.06.94zm10 10l.94 2.06.94-2.06 2.06-.94-2.06-.94-.94-2.06-.94 2.06-2.06.94z\"/><path d=\"M17.41 7.96l-1.37-1.37c-.4-.4-.92-.59-1.43-.59-.52 0-1.04.2-1.43.59L10.3 9.45l-7.72 7.72c-.78.78-.78 2.05 0 2.83L4 21.41c.39.39.9.59 1.41.59.51 0 1.02-.2 1.41-.59l7.78-7.78 2.81-2.81c.8-.78.8-2.07 0-2.86zM5.41 20L4 18.59l7.72-7.72 1.47 1.35L5.41 20z\"/>\n",
              "  </svg>\n",
              "      </button>\n",
              "      \n",
              "  <style>\n",
              "    .colab-df-container {\n",
              "      display:flex;\n",
              "      flex-wrap:wrap;\n",
              "      gap: 12px;\n",
              "    }\n",
              "\n",
              "    .colab-df-convert {\n",
              "      background-color: #E8F0FE;\n",
              "      border: none;\n",
              "      border-radius: 50%;\n",
              "      cursor: pointer;\n",
              "      display: none;\n",
              "      fill: #1967D2;\n",
              "      height: 32px;\n",
              "      padding: 0 0 0 0;\n",
              "      width: 32px;\n",
              "    }\n",
              "\n",
              "    .colab-df-convert:hover {\n",
              "      background-color: #E2EBFA;\n",
              "      box-shadow: 0px 1px 2px rgba(60, 64, 67, 0.3), 0px 1px 3px 1px rgba(60, 64, 67, 0.15);\n",
              "      fill: #174EA6;\n",
              "    }\n",
              "\n",
              "    [theme=dark] .colab-df-convert {\n",
              "      background-color: #3B4455;\n",
              "      fill: #D2E3FC;\n",
              "    }\n",
              "\n",
              "    [theme=dark] .colab-df-convert:hover {\n",
              "      background-color: #434B5C;\n",
              "      box-shadow: 0px 1px 3px 1px rgba(0, 0, 0, 0.15);\n",
              "      filter: drop-shadow(0px 1px 2px rgba(0, 0, 0, 0.3));\n",
              "      fill: #FFFFFF;\n",
              "    }\n",
              "  </style>\n",
              "\n",
              "      <script>\n",
              "        const buttonEl =\n",
              "          document.querySelector('#df-258f82d5-6be7-41c1-8169-d9b88259efee button.colab-df-convert');\n",
              "        buttonEl.style.display =\n",
              "          google.colab.kernel.accessAllowed ? 'block' : 'none';\n",
              "\n",
              "        async function convertToInteractive(key) {\n",
              "          const element = document.querySelector('#df-258f82d5-6be7-41c1-8169-d9b88259efee');\n",
              "          const dataTable =\n",
              "            await google.colab.kernel.invokeFunction('convertToInteractive',\n",
              "                                                     [key], {});\n",
              "          if (!dataTable) return;\n",
              "\n",
              "          const docLinkHtml = 'Like what you see? Visit the ' +\n",
              "            '<a target=\"_blank\" href=https://colab.research.google.com/notebooks/data_table.ipynb>data table notebook</a>'\n",
              "            + ' to learn more about interactive tables.';\n",
              "          element.innerHTML = '';\n",
              "          dataTable['output_type'] = 'display_data';\n",
              "          await google.colab.output.renderOutput(dataTable, element);\n",
              "          const docLink = document.createElement('div');\n",
              "          docLink.innerHTML = docLinkHtml;\n",
              "          element.appendChild(docLink);\n",
              "        }\n",
              "      </script>\n",
              "    </div>\n",
              "  </div>\n",
              "  "
            ]
          },
          "metadata": {},
          "execution_count": 38
        }
      ]
    },
    {
      "cell_type": "markdown",
      "source": [
        "2. visualizzare i primi 10 record del file. Usare due modi"
      ],
      "metadata": {
        "id": "Iuzl-iCnkrhx"
      }
    },
    {
      "cell_type": "code",
      "source": [
        "Andrea.head(10)\n",
        "#oppure \n",
        "Andrea[:10] "
      ],
      "metadata": {
        "id": "9SFNxWAgkzIQ"
      },
      "execution_count": null,
      "outputs": []
    },
    {
      "cell_type": "markdown",
      "source": [
        "3. visualizzare gli ultimi 10 record del dataframe. Usare due modi."
      ],
      "metadata": {
        "id": "hzrtwivOkzqc"
      }
    },
    {
      "cell_type": "code",
      "source": [
        "Andrea.tail(10)\n",
        "#oppure \n",
        "Andrea[-10:] "
      ],
      "metadata": {
        "id": "hlp4abLOhzr9"
      },
      "execution_count": null,
      "outputs": []
    },
    {
      "cell_type": "markdown",
      "source": [
        "4. visualizzare la colonna 'points'. Utilizzare due modi"
      ],
      "metadata": {
        "id": "-5FdxYV6lARr"
      }
    },
    {
      "cell_type": "code",
      "source": [
        "Andrea[['points']]\n",
        "#oppure \n",
        "Andrea.points"
      ],
      "metadata": {
        "id": "gHitOojolQN2"
      },
      "execution_count": null,
      "outputs": []
    },
    {
      "cell_type": "markdown",
      "source": [
        "5. visualizzare le colonne 'price' e 'title'"
      ],
      "metadata": {
        "id": "3BSP_qqKlQnv"
      }
    },
    {
      "cell_type": "code",
      "source": [
        "Andrea[['price' , 'title']]"
      ],
      "metadata": {
        "id": "UDz_6RnHldOh"
      },
      "execution_count": null,
      "outputs": []
    },
    {
      "cell_type": "markdown",
      "source": [
        "6. visualizzare tutti i dati dei record che si trovano dalla posizione 1000 alla posizione 1010"
      ],
      "metadata": {
        "id": "Uq5PTeHZldvi"
      }
    },
    {
      "cell_type": "code",
      "source": [
        "Andrea[1000:1011]"
      ],
      "metadata": {
        "id": "Bln3P0F1l2XF"
      },
      "execution_count": null,
      "outputs": []
    },
    {
      "cell_type": "markdown",
      "source": [
        "7. visualizzare le colonne 'price' e 'title' dei record che si trovano dalla posizione 1000 alla posizione 1010"
      ],
      "metadata": {
        "id": "gFgxVLOAl23O"
      }
    },
    {
      "cell_type": "code",
      "source": [
        "Andrea[['price' , 'title']][1000:1011]"
      ],
      "metadata": {
        "id": "sFcAUCf2mPbm"
      },
      "execution_count": null,
      "outputs": []
    },
    {
      "cell_type": "markdown",
      "source": [
        "8. cambiare i punti del vino 'Nicosia 2013 Vulkà Bianco (Etna)' da 87 a 89"
      ],
      "metadata": {
        "id": "742qN3NimQBh"
      }
    },
    {
      "cell_type": "code",
      "source": [
        "Andrea['points'] = Andrea['points'] + 2\n",
        "Andrea"
      ],
      "metadata": {
        "id": "yQ7CtaLBmsU4"
      },
      "execution_count": null,
      "outputs": []
    },
    {
      "cell_type": "code",
      "source": [
        "# aggiungere +2 solo al primo vino \n",
        "Andrea['points'][0] = Andrea['points'][0] + 2\n",
        "Andrea"
      ],
      "metadata": {
        "id": "12QIru9H4-G8"
      },
      "execution_count": null,
      "outputs": []
    },
    {
      "cell_type": "code",
      "source": [
        "#se non si sa l'indice \n",
        "Andrea['points'][Andrea['title'] == 'Nicosia 2013 Vulkà Bianco (Etna)'] = Andrea['points'][Andrea['title'] == 'Nicosia 2013 Vulkà Bianco (Etna)'] + 2\n",
        "Andrea"
      ],
      "metadata": {
        "id": "yj8X7SVq5r4j"
      },
      "execution_count": null,
      "outputs": []
    },
    {
      "cell_type": "markdown",
      "source": [
        "9. aumentare i punti del vino 'Quinta dos Avidagos 2011 Avidagos Red (Douro)' di 10 unità"
      ],
      "metadata": {
        "id": "J4BHlHf2msuB"
      }
    },
    {
      "cell_type": "code",
      "source": [
        "Andrea['points'] = Andrea['points'] + (Andrea['points'] + 10)\n",
        "Andrea.head()"
      ],
      "metadata": {
        "id": "wrexqJqbm-iZ"
      },
      "execution_count": null,
      "outputs": []
    },
    {
      "cell_type": "markdown",
      "source": [
        "10. aumentare tutti i prezzi dei vini del 10%"
      ],
      "metadata": {
        "id": "RSg_BH6tm-9E"
      }
    },
    {
      "cell_type": "code",
      "source": [
        "Andrea['price'] = Andrea['price'] + (Andrea['price'] /100 * 10)\n",
        "Andrea.head()"
      ],
      "metadata": {
        "id": "J1pCT7VdnLDP"
      },
      "execution_count": null,
      "outputs": []
    },
    {
      "cell_type": "markdown",
      "source": [
        "11. contare il numero di vini italiani presenti nel datafrane"
      ],
      "metadata": {
        "id": "gqKcBOWmnL3P"
      }
    },
    {
      "cell_type": "code",
      "source": [
        "Andrea[Andrea['country'] == 'Italy'][['title', 'country']]"
      ],
      "metadata": {
        "id": "gQIyxqN7nRPL"
      },
      "execution_count": null,
      "outputs": []
    },
    {
      "cell_type": "markdown",
      "source": [
        "12. trovare il prezzo del vino che costa di più"
      ],
      "metadata": {
        "id": "HAuLputWnRoO"
      }
    },
    {
      "cell_type": "code",
      "source": [
        "Andrea['price'].max()"
      ],
      "metadata": {
        "id": "wrQkhYxNnWV4"
      },
      "execution_count": null,
      "outputs": []
    },
    {
      "cell_type": "markdown",
      "source": [
        "13. trovare il prezzo del vino che costa di meno"
      ],
      "metadata": {
        "id": "MMbyTj7dnWy7"
      }
    },
    {
      "cell_type": "code",
      "source": [
        "Andrea['price'].min()"
      ],
      "metadata": {
        "id": "Uu_uv70Vnad0"
      },
      "execution_count": null,
      "outputs": []
    },
    {
      "cell_type": "markdown",
      "source": [
        "14. trovare il pezzo medio dei vini"
      ],
      "metadata": {
        "id": "kjr-QYD8na1C"
      }
    },
    {
      "cell_type": "code",
      "source": [
        "Andrea['price'].mean()"
      ],
      "metadata": {
        "id": "bvRfa4xpnd4y"
      },
      "execution_count": null,
      "outputs": []
    },
    {
      "cell_type": "markdown",
      "source": [
        "15. trovare il prezzo medio dei vini italiani, confrontarlo con il prezzo medio dei vini francesi e dire quali costano di più"
      ],
      "metadata": {
        "id": "vghM0Av1neZQ"
      }
    },
    {
      "cell_type": "code",
      "source": [],
      "metadata": {
        "id": "Otqo1IoPnrhb"
      },
      "execution_count": null,
      "outputs": []
    },
    {
      "cell_type": "markdown",
      "source": [
        "16. visualizzare i vini di cui non si conosce il prezzo"
      ],
      "metadata": {
        "id": "9PfaOOp0nsUc"
      }
    },
    {
      "cell_type": "code",
      "source": [
        "Andrea[Andrea['price'] == 'Nan'][['title' , 'price']]"
      ],
      "metadata": {
        "id": "an7iCdxln5w5"
      },
      "execution_count": null,
      "outputs": []
    },
    {
      "cell_type": "markdown",
      "source": [
        "17. visualizzare i vini che hanno le parole 'tropical fruit' nella descrizione"
      ],
      "metadata": {
        "id": "-fmQg-juoPsh"
      }
    },
    {
      "cell_type": "code",
      "source": [
        "Andrea[Andrea['description'].str.contains('tropical fruit')]"
      ],
      "metadata": {
        "id": "dfL2bsx0onsW"
      },
      "execution_count": null,
      "outputs": []
    },
    {
      "cell_type": "markdown",
      "source": [
        "18. caricare in un nuovo dataframe l'elenco completo dei vini italiani che hanno ottenuto un punteggio compreso tra 82 e 85 punti (estremi esclusi). Visualizzare poi il nuovo dataframe facendo in modo che l'utente possa vedere tutti i vini"
      ],
      "metadata": {
        "id": "e8Q0pcHOooFB"
      }
    },
    {
      "cell_type": "code",
      "source": [
        "Andrea1 = Andrea[(Andrea['country'] == 'Italy') & (Andrea['points'] > 82) & (Andrea['points'] <85)]\n",
        "Andrea1"
      ],
      "metadata": {
        "id": "brbIlh1Lo9-j",
        "colab": {
          "base_uri": "https://localhost:8080/",
          "height": 641
        },
        "outputId": "fe7c008f-a642-4da9-d9b3-78346714165d"
      },
      "execution_count": null,
      "outputs": [
        {
          "output_type": "execute_result",
          "data": {
            "text/plain": [
              "        points                                              title  \\\n",
              "1137        84  Cantine Grasso 2014 Nero d'Avola (Terre Sicili...   \n",
              "1138        84              Grifalco 2014 Frà Rosato (Basilicata)   \n",
              "1146        83                      Nugnes 2014 Rosato (Campania)   \n",
              "1148        83  Cantine Grasso 2013 Caporosso Nero d'Avola (Si...   \n",
              "1272        84      Maggiovini 2008 Pithoi Nero d'Avola (Sicilia)   \n",
              "...        ...                                                ...   \n",
              "128400      84  Feudi del Pisciotto 2012 Versace Nero d'Avola ...   \n",
              "128404      84            Armosa 2012 Salipetrj Moscato (Sicilia)   \n",
              "128405      84  Di Giovanna 2013 Gerbino Rosato Nero d'Avola (...   \n",
              "129610      84  Fattoria di San Quintino 2008 La Fagiana Red (...   \n",
              "129626      84  Massanera 2005 Prelato di Massanera Sangiovese...   \n",
              "\n",
              "                                              description    taster_name  \\\n",
              "1137    This easygoing, simple red offers hints of dar...  Kerin O’Keefe   \n",
              "1138    This informal rosato offers delicate aromas an...  Kerin O’Keefe   \n",
              "1146    With the pale color of onion skin, this rosé h...  Kerin O’Keefe   \n",
              "1148    This lean red initially opens with a sulfur ar...  Kerin O’Keefe   \n",
              "1272    Pithoi opens with light aromas of forest berry...           None   \n",
              "...                                                   ...            ...   \n",
              "128400  Funky aromas recall barnyard, wet earth and ov...  Kerin O’Keefe   \n",
              "128404  Aromas suggest cut flowers past their prime an...  Kerin O’Keefe   \n",
              "128405  Made with organically farmed grapes, this simp...  Kerin O’Keefe   \n",
              "129610  La Fagiana is a bright, ruby-colored wine with...           None   \n",
              "129626  Vintner Carlo Cattaneo offers a lean, crisp ex...           None   \n",
              "\n",
              "       taster_twitter_handle  price           designation       variety  \\\n",
              "1137            @kerinokeefe   11.0                  None  Nero d'Avola   \n",
              "1138            @kerinokeefe   10.0                   Frà        Rosato   \n",
              "1146            @kerinokeefe    NaN                  None        Rosato   \n",
              "1148            @kerinokeefe   14.0             Caporosso  Nero d'Avola   \n",
              "1272                    None    NaN                Pithoi  Nero d'Avola   \n",
              "...                      ...    ...                   ...           ...   \n",
              "128400          @kerinokeefe   30.0               Versace  Nero d'Avola   \n",
              "128404          @kerinokeefe   25.0             Salipetrj       Moscato   \n",
              "128405          @kerinokeefe   16.0        Gerbino Rosato  Nero d'Avola   \n",
              "129610                  None    NaN            La Fagiana     Red Blend   \n",
              "129626                  None   35.0  Prelato di Massanera    Sangiovese   \n",
              "\n",
              "               region_1 region_2           province country  \\\n",
              "1137    Terre Siciliane     None  Sicily & Sardinia   Italy   \n",
              "1138         Basilicata     None     Southern Italy   Italy   \n",
              "1146           Campania     None     Southern Italy   Italy   \n",
              "1148            Sicilia     None  Sicily & Sardinia   Italy   \n",
              "1272            Sicilia     None  Sicily & Sardinia   Italy   \n",
              "...                 ...      ...                ...     ...   \n",
              "128400          Sicilia     None  Sicily & Sardinia   Italy   \n",
              "128404          Sicilia     None  Sicily & Sardinia   Italy   \n",
              "128405  Terre Siciliane     None  Sicily & Sardinia   Italy   \n",
              "129610          Toscana     None            Tuscany   Italy   \n",
              "129626          Toscana     None            Tuscany   Italy   \n",
              "\n",
              "                          winery  \n",
              "1137              Cantine Grasso  \n",
              "1138                    Grifalco  \n",
              "1146                      Nugnes  \n",
              "1148              Cantine Grasso  \n",
              "1272                  Maggiovini  \n",
              "...                          ...  \n",
              "128400       Feudi del Pisciotto  \n",
              "128404                    Armosa  \n",
              "128405               Di Giovanna  \n",
              "129610  Fattoria di San Quintino  \n",
              "129626                 Massanera  \n",
              "\n",
              "[766 rows x 13 columns]"
            ],
            "text/html": [
              "\n",
              "  <div id=\"df-d81492ab-6e70-4748-b2f5-1a752ce6fb94\">\n",
              "    <div class=\"colab-df-container\">\n",
              "      <div>\n",
              "<style scoped>\n",
              "    .dataframe tbody tr th:only-of-type {\n",
              "        vertical-align: middle;\n",
              "    }\n",
              "\n",
              "    .dataframe tbody tr th {\n",
              "        vertical-align: top;\n",
              "    }\n",
              "\n",
              "    .dataframe thead th {\n",
              "        text-align: right;\n",
              "    }\n",
              "</style>\n",
              "<table border=\"1\" class=\"dataframe\">\n",
              "  <thead>\n",
              "    <tr style=\"text-align: right;\">\n",
              "      <th></th>\n",
              "      <th>points</th>\n",
              "      <th>title</th>\n",
              "      <th>description</th>\n",
              "      <th>taster_name</th>\n",
              "      <th>taster_twitter_handle</th>\n",
              "      <th>price</th>\n",
              "      <th>designation</th>\n",
              "      <th>variety</th>\n",
              "      <th>region_1</th>\n",
              "      <th>region_2</th>\n",
              "      <th>province</th>\n",
              "      <th>country</th>\n",
              "      <th>winery</th>\n",
              "    </tr>\n",
              "  </thead>\n",
              "  <tbody>\n",
              "    <tr>\n",
              "      <th>1137</th>\n",
              "      <td>84</td>\n",
              "      <td>Cantine Grasso 2014 Nero d'Avola (Terre Sicili...</td>\n",
              "      <td>This easygoing, simple red offers hints of dar...</td>\n",
              "      <td>Kerin O’Keefe</td>\n",
              "      <td>@kerinokeefe</td>\n",
              "      <td>11.0</td>\n",
              "      <td>None</td>\n",
              "      <td>Nero d'Avola</td>\n",
              "      <td>Terre Siciliane</td>\n",
              "      <td>None</td>\n",
              "      <td>Sicily &amp; Sardinia</td>\n",
              "      <td>Italy</td>\n",
              "      <td>Cantine Grasso</td>\n",
              "    </tr>\n",
              "    <tr>\n",
              "      <th>1138</th>\n",
              "      <td>84</td>\n",
              "      <td>Grifalco 2014 Frà Rosato (Basilicata)</td>\n",
              "      <td>This informal rosato offers delicate aromas an...</td>\n",
              "      <td>Kerin O’Keefe</td>\n",
              "      <td>@kerinokeefe</td>\n",
              "      <td>10.0</td>\n",
              "      <td>Frà</td>\n",
              "      <td>Rosato</td>\n",
              "      <td>Basilicata</td>\n",
              "      <td>None</td>\n",
              "      <td>Southern Italy</td>\n",
              "      <td>Italy</td>\n",
              "      <td>Grifalco</td>\n",
              "    </tr>\n",
              "    <tr>\n",
              "      <th>1146</th>\n",
              "      <td>83</td>\n",
              "      <td>Nugnes 2014 Rosato (Campania)</td>\n",
              "      <td>With the pale color of onion skin, this rosé h...</td>\n",
              "      <td>Kerin O’Keefe</td>\n",
              "      <td>@kerinokeefe</td>\n",
              "      <td>NaN</td>\n",
              "      <td>None</td>\n",
              "      <td>Rosato</td>\n",
              "      <td>Campania</td>\n",
              "      <td>None</td>\n",
              "      <td>Southern Italy</td>\n",
              "      <td>Italy</td>\n",
              "      <td>Nugnes</td>\n",
              "    </tr>\n",
              "    <tr>\n",
              "      <th>1148</th>\n",
              "      <td>83</td>\n",
              "      <td>Cantine Grasso 2013 Caporosso Nero d'Avola (Si...</td>\n",
              "      <td>This lean red initially opens with a sulfur ar...</td>\n",
              "      <td>Kerin O’Keefe</td>\n",
              "      <td>@kerinokeefe</td>\n",
              "      <td>14.0</td>\n",
              "      <td>Caporosso</td>\n",
              "      <td>Nero d'Avola</td>\n",
              "      <td>Sicilia</td>\n",
              "      <td>None</td>\n",
              "      <td>Sicily &amp; Sardinia</td>\n",
              "      <td>Italy</td>\n",
              "      <td>Cantine Grasso</td>\n",
              "    </tr>\n",
              "    <tr>\n",
              "      <th>1272</th>\n",
              "      <td>84</td>\n",
              "      <td>Maggiovini 2008 Pithoi Nero d'Avola (Sicilia)</td>\n",
              "      <td>Pithoi opens with light aromas of forest berry...</td>\n",
              "      <td>None</td>\n",
              "      <td>None</td>\n",
              "      <td>NaN</td>\n",
              "      <td>Pithoi</td>\n",
              "      <td>Nero d'Avola</td>\n",
              "      <td>Sicilia</td>\n",
              "      <td>None</td>\n",
              "      <td>Sicily &amp; Sardinia</td>\n",
              "      <td>Italy</td>\n",
              "      <td>Maggiovini</td>\n",
              "    </tr>\n",
              "    <tr>\n",
              "      <th>...</th>\n",
              "      <td>...</td>\n",
              "      <td>...</td>\n",
              "      <td>...</td>\n",
              "      <td>...</td>\n",
              "      <td>...</td>\n",
              "      <td>...</td>\n",
              "      <td>...</td>\n",
              "      <td>...</td>\n",
              "      <td>...</td>\n",
              "      <td>...</td>\n",
              "      <td>...</td>\n",
              "      <td>...</td>\n",
              "      <td>...</td>\n",
              "    </tr>\n",
              "    <tr>\n",
              "      <th>128400</th>\n",
              "      <td>84</td>\n",
              "      <td>Feudi del Pisciotto 2012 Versace Nero d'Avola ...</td>\n",
              "      <td>Funky aromas recall barnyard, wet earth and ov...</td>\n",
              "      <td>Kerin O’Keefe</td>\n",
              "      <td>@kerinokeefe</td>\n",
              "      <td>30.0</td>\n",
              "      <td>Versace</td>\n",
              "      <td>Nero d'Avola</td>\n",
              "      <td>Sicilia</td>\n",
              "      <td>None</td>\n",
              "      <td>Sicily &amp; Sardinia</td>\n",
              "      <td>Italy</td>\n",
              "      <td>Feudi del Pisciotto</td>\n",
              "    </tr>\n",
              "    <tr>\n",
              "      <th>128404</th>\n",
              "      <td>84</td>\n",
              "      <td>Armosa 2012 Salipetrj Moscato (Sicilia)</td>\n",
              "      <td>Aromas suggest cut flowers past their prime an...</td>\n",
              "      <td>Kerin O’Keefe</td>\n",
              "      <td>@kerinokeefe</td>\n",
              "      <td>25.0</td>\n",
              "      <td>Salipetrj</td>\n",
              "      <td>Moscato</td>\n",
              "      <td>Sicilia</td>\n",
              "      <td>None</td>\n",
              "      <td>Sicily &amp; Sardinia</td>\n",
              "      <td>Italy</td>\n",
              "      <td>Armosa</td>\n",
              "    </tr>\n",
              "    <tr>\n",
              "      <th>128405</th>\n",
              "      <td>84</td>\n",
              "      <td>Di Giovanna 2013 Gerbino Rosato Nero d'Avola (...</td>\n",
              "      <td>Made with organically farmed grapes, this simp...</td>\n",
              "      <td>Kerin O’Keefe</td>\n",
              "      <td>@kerinokeefe</td>\n",
              "      <td>16.0</td>\n",
              "      <td>Gerbino Rosato</td>\n",
              "      <td>Nero d'Avola</td>\n",
              "      <td>Terre Siciliane</td>\n",
              "      <td>None</td>\n",
              "      <td>Sicily &amp; Sardinia</td>\n",
              "      <td>Italy</td>\n",
              "      <td>Di Giovanna</td>\n",
              "    </tr>\n",
              "    <tr>\n",
              "      <th>129610</th>\n",
              "      <td>84</td>\n",
              "      <td>Fattoria di San Quintino 2008 La Fagiana Red (...</td>\n",
              "      <td>La Fagiana is a bright, ruby-colored wine with...</td>\n",
              "      <td>None</td>\n",
              "      <td>None</td>\n",
              "      <td>NaN</td>\n",
              "      <td>La Fagiana</td>\n",
              "      <td>Red Blend</td>\n",
              "      <td>Toscana</td>\n",
              "      <td>None</td>\n",
              "      <td>Tuscany</td>\n",
              "      <td>Italy</td>\n",
              "      <td>Fattoria di San Quintino</td>\n",
              "    </tr>\n",
              "    <tr>\n",
              "      <th>129626</th>\n",
              "      <td>84</td>\n",
              "      <td>Massanera 2005 Prelato di Massanera Sangiovese...</td>\n",
              "      <td>Vintner Carlo Cattaneo offers a lean, crisp ex...</td>\n",
              "      <td>None</td>\n",
              "      <td>None</td>\n",
              "      <td>35.0</td>\n",
              "      <td>Prelato di Massanera</td>\n",
              "      <td>Sangiovese</td>\n",
              "      <td>Toscana</td>\n",
              "      <td>None</td>\n",
              "      <td>Tuscany</td>\n",
              "      <td>Italy</td>\n",
              "      <td>Massanera</td>\n",
              "    </tr>\n",
              "  </tbody>\n",
              "</table>\n",
              "<p>766 rows × 13 columns</p>\n",
              "</div>\n",
              "      <button class=\"colab-df-convert\" onclick=\"convertToInteractive('df-d81492ab-6e70-4748-b2f5-1a752ce6fb94')\"\n",
              "              title=\"Convert this dataframe to an interactive table.\"\n",
              "              style=\"display:none;\">\n",
              "        \n",
              "  <svg xmlns=\"http://www.w3.org/2000/svg\" height=\"24px\"viewBox=\"0 0 24 24\"\n",
              "       width=\"24px\">\n",
              "    <path d=\"M0 0h24v24H0V0z\" fill=\"none\"/>\n",
              "    <path d=\"M18.56 5.44l.94 2.06.94-2.06 2.06-.94-2.06-.94-.94-2.06-.94 2.06-2.06.94zm-11 1L8.5 8.5l.94-2.06 2.06-.94-2.06-.94L8.5 2.5l-.94 2.06-2.06.94zm10 10l.94 2.06.94-2.06 2.06-.94-2.06-.94-.94-2.06-.94 2.06-2.06.94z\"/><path d=\"M17.41 7.96l-1.37-1.37c-.4-.4-.92-.59-1.43-.59-.52 0-1.04.2-1.43.59L10.3 9.45l-7.72 7.72c-.78.78-.78 2.05 0 2.83L4 21.41c.39.39.9.59 1.41.59.51 0 1.02-.2 1.41-.59l7.78-7.78 2.81-2.81c.8-.78.8-2.07 0-2.86zM5.41 20L4 18.59l7.72-7.72 1.47 1.35L5.41 20z\"/>\n",
              "  </svg>\n",
              "      </button>\n",
              "      \n",
              "  <style>\n",
              "    .colab-df-container {\n",
              "      display:flex;\n",
              "      flex-wrap:wrap;\n",
              "      gap: 12px;\n",
              "    }\n",
              "\n",
              "    .colab-df-convert {\n",
              "      background-color: #E8F0FE;\n",
              "      border: none;\n",
              "      border-radius: 50%;\n",
              "      cursor: pointer;\n",
              "      display: none;\n",
              "      fill: #1967D2;\n",
              "      height: 32px;\n",
              "      padding: 0 0 0 0;\n",
              "      width: 32px;\n",
              "    }\n",
              "\n",
              "    .colab-df-convert:hover {\n",
              "      background-color: #E2EBFA;\n",
              "      box-shadow: 0px 1px 2px rgba(60, 64, 67, 0.3), 0px 1px 3px 1px rgba(60, 64, 67, 0.15);\n",
              "      fill: #174EA6;\n",
              "    }\n",
              "\n",
              "    [theme=dark] .colab-df-convert {\n",
              "      background-color: #3B4455;\n",
              "      fill: #D2E3FC;\n",
              "    }\n",
              "\n",
              "    [theme=dark] .colab-df-convert:hover {\n",
              "      background-color: #434B5C;\n",
              "      box-shadow: 0px 1px 3px 1px rgba(0, 0, 0, 0.15);\n",
              "      filter: drop-shadow(0px 1px 2px rgba(0, 0, 0, 0.3));\n",
              "      fill: #FFFFFF;\n",
              "    }\n",
              "  </style>\n",
              "\n",
              "      <script>\n",
              "        const buttonEl =\n",
              "          document.querySelector('#df-d81492ab-6e70-4748-b2f5-1a752ce6fb94 button.colab-df-convert');\n",
              "        buttonEl.style.display =\n",
              "          google.colab.kernel.accessAllowed ? 'block' : 'none';\n",
              "\n",
              "        async function convertToInteractive(key) {\n",
              "          const element = document.querySelector('#df-d81492ab-6e70-4748-b2f5-1a752ce6fb94');\n",
              "          const dataTable =\n",
              "            await google.colab.kernel.invokeFunction('convertToInteractive',\n",
              "                                                     [key], {});\n",
              "          if (!dataTable) return;\n",
              "\n",
              "          const docLinkHtml = 'Like what you see? Visit the ' +\n",
              "            '<a target=\"_blank\" href=https://colab.research.google.com/notebooks/data_table.ipynb>data table notebook</a>'\n",
              "            + ' to learn more about interactive tables.';\n",
              "          element.innerHTML = '';\n",
              "          dataTable['output_type'] = 'display_data';\n",
              "          await google.colab.output.renderOutput(dataTable, element);\n",
              "          const docLink = document.createElement('div');\n",
              "          docLink.innerHTML = docLinkHtml;\n",
              "          element.appendChild(docLink);\n",
              "        }\n",
              "      </script>\n",
              "    </div>\n",
              "  </div>\n",
              "  "
            ]
          },
          "metadata": {},
          "execution_count": 39
        }
      ]
    }
  ]
}